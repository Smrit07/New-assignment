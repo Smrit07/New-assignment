{
 "cells": [
  {
   "cell_type": "markdown",
   "id": "c345cb84",
   "metadata": {},
   "source": [
    "Assignment 1\n"
   ]
  },
  {
   "cell_type": "markdown",
   "id": "f1af73c2",
   "metadata": {},
   "source": [
    "1. The perimeter of a rectangle with length 9 & width 6"
   ]
  },
  {
   "cell_type": "code",
   "execution_count": 1,
   "id": "bbec990b",
   "metadata": {},
   "outputs": [
    {
     "data": {
      "text/plain": [
       "30"
      ]
     },
     "execution_count": 1,
     "metadata": {},
     "output_type": "execute_result"
    }
   ],
   "source": [
    "2 * (9 + 6)\n"
   ]
  },
  {
   "cell_type": "markdown",
   "id": "4be471e0",
   "metadata": {},
   "source": [
    "2. Python is great, it’s wild!"
   ]
  },
  {
   "cell_type": "code",
   "execution_count": 2,
   "id": "49117e81",
   "metadata": {},
   "outputs": [
    {
     "data": {
      "text/plain": [
       "'Python is great, it’s wild!'"
      ]
     },
     "execution_count": 2,
     "metadata": {},
     "output_type": "execute_result"
    }
   ],
   "source": [
    "\"Python is great, it’s wild!\"\n"
   ]
  },
  {
   "cell_type": "markdown",
   "id": "4e393ffd",
   "metadata": {},
   "source": [
    "3. 2 to the 10th power"
   ]
  },
  {
   "cell_type": "code",
   "execution_count": 3,
   "id": "8178c022",
   "metadata": {},
   "outputs": [
    {
     "data": {
      "text/plain": [
       "1024"
      ]
     },
     "execution_count": 3,
     "metadata": {},
     "output_type": "execute_result"
    }
   ],
   "source": [
    "2 ** 10\n"
   ]
  },
  {
   "cell_type": "markdown",
   "id": "f3ff2a45",
   "metadata": {},
   "source": [
    "4. 7 factorial minus 5 factorial"
   ]
  },
  {
   "cell_type": "code",
   "execution_count": 4,
   "id": "fd8cbfba",
   "metadata": {},
   "outputs": [
    {
     "data": {
      "text/plain": [
       "4920"
      ]
     },
     "execution_count": 4,
     "metadata": {},
     "output_type": "execute_result"
    }
   ],
   "source": [
    "import math\n",
    "math.factorial(7) - math.factorial(5)\n"
   ]
  },
  {
   "cell_type": "markdown",
   "id": "b52e0be7",
   "metadata": {},
   "source": [
    "5. Your forename multiplied by 5"
   ]
  },
  {
   "cell_type": "code",
   "execution_count": 5,
   "id": "c43ae310",
   "metadata": {},
   "outputs": [
    {
     "data": {
      "text/plain": [
       "'ForenameForenameForenameForenameForename'"
      ]
     },
     "execution_count": 5,
     "metadata": {},
     "output_type": "execute_result"
    }
   ],
   "source": [
    "\"Forename\" * 5\n"
   ]
  },
  {
   "cell_type": "markdown",
   "id": "37216ff9",
   "metadata": {},
   "source": [
    "6. Your name left justified 15 spaces"
   ]
  },
  {
   "cell_type": "code",
   "execution_count": 6,
   "id": "7931c63a",
   "metadata": {},
   "outputs": [
    {
     "data": {
      "text/plain": [
       "'Forename       '"
      ]
     },
     "execution_count": 6,
     "metadata": {},
     "output_type": "execute_result"
    }
   ],
   "source": [
    "\"Forename\".ljust(15)\n"
   ]
  },
  {
   "cell_type": "markdown",
   "id": "7b127e22",
   "metadata": {},
   "source": [
    "7. PI to 5 decimal places"
   ]
  },
  {
   "cell_type": "code",
   "execution_count": 7,
   "id": "d68a80c4",
   "metadata": {},
   "outputs": [
    {
     "data": {
      "text/plain": [
       "3.14159"
      ]
     },
     "execution_count": 7,
     "metadata": {},
     "output_type": "execute_result"
    }
   ],
   "source": [
    "import math\n",
    "round(math.pi, 5)\n"
   ]
  },
  {
   "cell_type": "markdown",
   "id": "b58b1170",
   "metadata": {},
   "source": [
    "8. 200 modulus 12"
   ]
  },
  {
   "cell_type": "code",
   "execution_count": 8,
   "id": "93152701",
   "metadata": {},
   "outputs": [
    {
     "data": {
      "text/plain": [
       "8"
      ]
     },
     "execution_count": 8,
     "metadata": {},
     "output_type": "execute_result"
    }
   ],
   "source": [
    "200 % 12\n"
   ]
  },
  {
   "cell_type": "markdown",
   "id": "ec2829f2",
   "metadata": {},
   "source": [
    "9. 7.2 as an integer value"
   ]
  },
  {
   "cell_type": "code",
   "execution_count": 9,
   "id": "6eb01e30",
   "metadata": {},
   "outputs": [
    {
     "data": {
      "text/plain": [
       "7"
      ]
     },
     "execution_count": 9,
     "metadata": {},
     "output_type": "execute_result"
    }
   ],
   "source": [
    "int(7.2)\n"
   ]
  },
  {
   "cell_type": "markdown",
   "id": "393b945c",
   "metadata": {},
   "source": [
    "10. The Unicode encoding for your name"
   ]
  },
  {
   "cell_type": "code",
   "execution_count": 10,
   "id": "1e40381e",
   "metadata": {},
   "outputs": [
    {
     "data": {
      "text/plain": [
       "[65, 108, 105]"
      ]
     },
     "execution_count": 10,
     "metadata": {},
     "output_type": "execute_result"
    }
   ],
   "source": [
    "[ord(char) for char in \"Ali\"]\n"
   ]
  },
  {
   "cell_type": "markdown",
   "id": "ba51d265",
   "metadata": {},
   "source": []
  },
  {
   "cell_type": "markdown",
   "id": "5546e7c8",
   "metadata": {},
   "source": [
    "part-2"
   ]
  },
  {
   "cell_type": "markdown",
   "id": "7d850a99",
   "metadata": {},
   "source": [
    "1.Write a program to take a number input from the user and display whether the number is even or odd."
   ]
  },
  {
   "cell_type": "code",
   "execution_count": 1,
   "id": "23913280",
   "metadata": {},
   "outputs": [
    {
     "name": "stdout",
     "output_type": "stream",
     "text": [
      "The number is even.\n"
     ]
    }
   ],
   "source": [
    "num = int(input(\"Enter a number: \"))\n",
    "if num % 2 == 0:\n",
    "    print(\"The number is even.\")\n",
    "else:\n",
    "    print(\"The number is odd.\")\n"
   ]
  },
  {
   "cell_type": "markdown",
   "id": "550070da",
   "metadata": {},
   "source": [
    "2. Write a program that prompts the user for two integer values and displays the results of the first number divided by the second, with exactly two decimal places displayed. "
   ]
  },
  {
   "cell_type": "code",
   "execution_count": 2,
   "id": "0d2ff530",
   "metadata": {},
   "outputs": [
    {
     "name": "stdout",
     "output_type": "stream",
     "text": [
      "Result: 12.00\n"
     ]
    }
   ],
   "source": [
    "num1 = int(input(\"Enter the first integer: \"))\n",
    "num2 = int(input(\"Enter the second integer: \"))\n",
    "if num2 != 0:\n",
    "    result = num1 / num2\n",
    "    print(\"Result: {:.2f}\".format(result))\n",
    "else:\n",
    "    print(\"Division by zero is not allowed.\")\n"
   ]
  },
  {
   "cell_type": "markdown",
   "id": "3fb21907",
   "metadata": {},
   "source": [
    "3. Write a program that will convert Celsius value to Fahrenheit."
   ]
  },
  {
   "cell_type": "code",
   "execution_count": 3,
   "id": "3075dcd9",
   "metadata": {},
   "outputs": [
    {
     "name": "stdout",
     "output_type": "stream",
     "text": [
      "Temperature in Fahrenheit: 53.60\n"
     ]
    }
   ],
   "source": [
    "celsius = float(input(\"Enter temperature in Celsius: \"))\n",
    "fahrenheit = (celsius * 9/5) + 32\n",
    "print(f\"Temperature in Fahrenheit: {fahrenheit:.2f}\")\n"
   ]
  },
  {
   "cell_type": "markdown",
   "id": "f9099407",
   "metadata": {},
   "source": [
    "4. Write a program to find the Euclidean distance between two coordinates. Take both the coordinates from the user as input."
   ]
  },
  {
   "cell_type": "code",
   "execution_count": 5,
   "id": "076f549f",
   "metadata": {},
   "outputs": [
    {
     "name": "stdout",
     "output_type": "stream",
     "text": [
      "Euclidean distance: 1.00\n"
     ]
    }
   ],
   "source": [
    "import math\n",
    "\n",
    "x1 = float(input(\"Enter x1: \"))\n",
    "y1 = float(input(\"Enter y1: \"))\n",
    "x2 = float(input(\"Enter x2: \"))\n",
    "y2 = float(input(\"Enter y2: \"))\n",
    "\n",
    "distance = math.sqrt((x2 - x1)**2 + (y2 - y1)**2)\n",
    "print(f\"Euclidean distance: {distance:.2f}\")\n"
   ]
  },
  {
   "cell_type": "markdown",
   "id": "237c25ce",
   "metadata": {},
   "source": [
    "5.Write a program to find the simple interest when the value of principle, rate of interest and time period is provided by the user.\n"
   ]
  },
  {
   "cell_type": "code",
   "execution_count": 6,
   "id": "e713dea8",
   "metadata": {},
   "outputs": [
    {
     "name": "stdout",
     "output_type": "stream",
     "text": [
      "Simple Interest: 106.48\n"
     ]
    }
   ],
   "source": [
    "p = float(input(\"Enter principal amount: \"))\n",
    "r = float(input(\"Enter rate of interest: \"))\n",
    "t = float(input(\"Enter time in years: \"))\n",
    "\n",
    "si = (p * r * t) / 100\n",
    "print(f\"Simple Interest: {si:.2f}\")\n"
   ]
  },
  {
   "cell_type": "markdown",
   "id": "18797848",
   "metadata": {},
   "source": [
    "6..Write a Python program to find those numbers which are divisible by 7 and multiple of 5, between 1500 and 2000 (both included)."
   ]
  },
  {
   "cell_type": "code",
   "execution_count": 9,
   "id": "2a5bc82e",
   "metadata": {},
   "outputs": [
    {
     "name": "stdout",
     "output_type": "stream",
     "text": [
      "1505\n",
      "1540\n",
      "1575\n",
      "1610\n",
      "1645\n",
      "1680\n",
      "1715\n",
      "1750\n",
      "1785\n",
      "1820\n",
      "1855\n",
      "1890\n",
      "1925\n",
      "1960\n",
      "1995\n"
     ]
    }
   ],
   "source": [
    "for num in range(1500, 2001):\n",
    "    if num % 7 == 0 and num % 5 == 0:\n",
    "        print(num)\n"
   ]
  },
  {
   "cell_type": "markdown",
   "id": "9456fa99",
   "metadata": {},
   "source": [
    "7. Write a Python program that accepts a string and calculates the number of digits and letters."
   ]
  },
  {
   "cell_type": "code",
   "execution_count": 10,
   "id": "2a6e2833",
   "metadata": {},
   "outputs": [
    {
     "name": "stdout",
     "output_type": "stream",
     "text": [
      "Letters: 0\n",
      "Digits: 2\n"
     ]
    }
   ],
   "source": [
    "text = input(\"Enter a string: \")\n",
    "letters = digits = 0\n",
    "\n",
    "for char in text:\n",
    "    if char.isalpha():\n",
    "        letters += 1\n",
    "    elif char.isdigit():\n",
    "        digits += 1\n",
    "\n",
    "print(f\"Letters: {letters}\")\n",
    "print(f\"Digits: {digits}\")\n"
   ]
  },
  {
   "cell_type": "markdown",
   "id": "e6ca7926",
   "metadata": {},
   "source": [
    "8. Write a program to create a number guessing game for the user. The program should ask the user to input a number. The program specifications are as mentioned below.\n",
    "i.The program should generate a random number for the answer.\n",
    "ii.The program should prompt the user for a number input.\n",
    "iii.The program should provide the feedback to the user after each guesses (e.g. “Too high”, “Too low” or “Correct number”).\n",
    "iv.The program should check the user input for 5 times and allow the users to guess for at most 5 times if their input don’t match the answer number.\n",
    "v.If the user is not able to guess the answer within 5 times, the program should display “Game Over” message and exit. \n",
    "\n"
   ]
  },
  {
   "cell_type": "code",
   "execution_count": 11,
   "id": "a2503f0d",
   "metadata": {},
   "outputs": [
    {
     "name": "stdout",
     "output_type": "stream",
     "text": [
      "Guess the number (between 1 and 100):\n",
      "Correct number!\n"
     ]
    }
   ],
   "source": [
    "import random\n",
    "\n",
    "answer = random.randint(1, 100)  # Random number between 1 and 100\n",
    "attempts = 5\n",
    "\n",
    "print(\"Guess the number (between 1 and 100):\")\n",
    "\n",
    "for i in range(attempts):\n",
    "    guess = int(input(f\"Attempt {i+1}: \"))\n",
    "    \n",
    "    if guess == answer:\n",
    "        print(\"Correct number!\")\n",
    "        break\n",
    "    elif guess < answer:\n",
    "        print(\"Too low.\")\n",
    "    else:\n",
    "        print(\"Too high.\")\n",
    "else:\n",
    "    print(f\"Game Over. The correct number was {answer}.\")\n"
   ]
  }
 ],
 "metadata": {
  "kernelspec": {
   "display_name": "Python 3",
   "language": "python",
   "name": "python3"
  },
  "language_info": {
   "codemirror_mode": {
    "name": "ipython",
    "version": 3
   },
   "file_extension": ".py",
   "mimetype": "text/x-python",
   "name": "python",
   "nbconvert_exporter": "python",
   "pygments_lexer": "ipython3",
   "version": "3.13.0"
  }
 },
 "nbformat": 4,
 "nbformat_minor": 5
}
