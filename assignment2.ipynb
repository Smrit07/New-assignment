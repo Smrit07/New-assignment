{
 "cells": [
  {
   "cell_type": "markdown",
   "id": "e1a62425",
   "metadata": {},
   "source": [
    "1.Write a function that accepts a string and calculate the number of upper case letters and lower case letters. "
   ]
  },
  {
   "cell_type": "code",
   "execution_count": null,
   "id": "0e21a628",
   "metadata": {},
   "outputs": [],
   "source": [
    "def count_case_letters(text):\n",
    "    upper_count = 0\n",
    "    lower_count = 0\n",
    "\n",
    "    for char in text:\n",
    "        if char.isupper():\n",
    "            upper_count += 1\n",
    "        elif char.islower():\n",
    "            lower_count += 1\n",
    "\n",
    "    print(\"Uppercase letters:\", upper_count)\n",
    "    print(\"Lowercase letters:\", lower_count)\n",
    "\n",
    "\n"
   ]
  },
  {
   "cell_type": "markdown",
   "id": "ee8fe7c8",
   "metadata": {},
   "source": [
    "2. Write a function to check whether the given number is prime or not."
   ]
  },
  {
   "cell_type": "code",
   "execution_count": null,
   "id": "a6ae1a11",
   "metadata": {},
   "outputs": [
    {
     "name": "stdout",
     "output_type": "stream",
     "text": [
      "True\n",
      "False\n"
     ]
    }
   ],
   "source": [
    "def is_prime(n):\n",
    "    if n <= 1:\n",
    "        return False\n",
    "    for i in range(2, int(n**0.5)+1):\n",
    "        if n % i == 0:\n",
    "            return False\n",
    "    return True\n",
    "\n",
    "print(is_prime(7))  \n",
    "print(is_prime(10))  \n"
   ]
  },
  {
   "cell_type": "markdown",
   "id": "5feabe49",
   "metadata": {},
   "source": [
    "3. Write a function to check whether the given number is Armstrong or not."
   ]
  },
  {
   "cell_type": "code",
   "execution_count": null,
   "id": "3517e1f1",
   "metadata": {},
   "outputs": [
    {
     "name": "stdout",
     "output_type": "stream",
     "text": [
      "True\n",
      "False\n"
     ]
    }
   ],
   "source": [
    "def is_armstrong(n):\n",
    "    digits = str(n)\n",
    "    power = len(digits)\n",
    "    return n == sum(int(d)**power for d in digits)\n",
    "\n",
    "print(is_armstrong(153))  \n",
    "print(is_armstrong(123))  \n"
   ]
  },
  {
   "cell_type": "markdown",
   "id": "7e4250b0",
   "metadata": {},
   "source": [
    "4. Write a function to accept a list of names and return the sorted order of names back."
   ]
  },
  {
   "cell_type": "code",
   "execution_count": 6,
   "id": "b921d78f",
   "metadata": {},
   "outputs": [
    {
     "name": "stdout",
     "output_type": "stream",
     "text": [
      "['Anita', 'Kamal', 'Ravi']\n"
     ]
    }
   ],
   "source": [
    "def sort_names(name_list):\n",
    "    return sorted(name_list)\n",
    "\n",
    "# Example\n",
    "print(sort_names([\"Ravi\", \"Anita\", \"Kamal\"]))  \n",
    "# Output: ['Anita', 'Kamal', 'Ravi']\n"
   ]
  },
  {
   "cell_type": "markdown",
   "id": "a35e7506",
   "metadata": {},
   "source": [
    "5. Create a program called calculator with functions to perform the following arithmetic calculations, each should take two decimal parameters and return the result of the arithmetic calculation in question.\n",
    "A. Addition\n",
    "B. Subtraction\n",
    "C. Multiplication\n",
    "D. Division\n",
    "E. Truncated division\n",
    "F. Modulus\n",
    "G. Exponentiation\n",
    "\n",
    "\n"
   ]
  },
  {
   "cell_type": "code",
   "execution_count": 7,
   "id": "cd5fca16",
   "metadata": {},
   "outputs": [
    {
     "name": "stdout",
     "output_type": "stream",
     "text": [
      "7.7\n",
      "4\n"
     ]
    }
   ],
   "source": [
    "def add(a, b): return a + b\n",
    "def subtract(a, b): return a - b\n",
    "def multiply(a, b): return a * b\n",
    "def divide(a, b): return a / b\n",
    "def truncated_division(a, b): return a // b\n",
    "def modulus(a, b): return a % b\n",
    "def exponentiate(a, b): return a ** b\n",
    "\n",
    "# Example\n",
    "print(add(5.5, 2.2))             # Output: 7.7\n",
    "print(truncated_division(9, 2)) # Output: 4\n"
   ]
  },
  {
   "cell_type": "markdown",
   "id": "5d0e41ac",
   "metadata": {},
   "source": [
    "6.Write a program that prompts the user for a series of integers and stores in a list only the values between 1-100, and displays the resulting list."
   ]
  },
  {
   "cell_type": "code",
   "execution_count": 17,
   "id": "c739a528",
   "metadata": {},
   "outputs": [],
   "source": [
    "def filter_valid_integers():\n",
    "    nums = list(map(int, input(\"Enter integers separated by space: \").split()))\n",
    "    result = [n for n in nums if 1 <= n <= 100]\n",
    "    print(\"Valid numbers:\", result)\n",
    "\n",
    "\n"
   ]
  },
  {
   "cell_type": "markdown",
   "id": "a6320e27",
   "metadata": {},
   "source": [
    "7.Write a program that prompts the user to enter a list of names and store them in a list. The program should display how many times the letter 'a appears within the list."
   ]
  },
  {
   "cell_type": "code",
   "execution_count": 9,
   "id": "77aae4ea",
   "metadata": {},
   "outputs": [],
   "source": [
    "def count_a_in_names():\n",
    "    names = input(\"Enter names separated by space: \").split()\n",
    "    count = sum(name.lower().count('a') for name in names)\n",
    "    print(\"'a' appears\", count, \"times.\")\n",
    "\n",
    "# Example Input: Amar Alina Ramesh\n",
    "# Output: 'a' appears 4 times.\n"
   ]
  },
  {
   "cell_type": "markdown",
   "id": "428eae25",
   "metadata": {},
   "source": [
    " 8.Write a program that prompts the user to enter integer values to populate two lists, then prints messages to determine the following: \n",
    "(a) Whether the lists are of the same length. \n",
    "(b) Whether the elements in each list sum to the same value. \n",
    "(c) Whether there are any values that occur in both lists\n"
   ]
  },
  {
   "cell_type": "code",
   "execution_count": null,
   "id": "5b56b0c8",
   "metadata": {},
   "outputs": [],
   "source": [
    "def compare_lists():\n",
    "    list1 = list(map(int, input(\"Enter values for list1: \").split()))\n",
    "    list2 = list(map(int, input(\"Enter values for list2: \").split()))\n",
    "    \n",
    "    print(\"Same length:\", len(list1) == len(list2))\n",
    "    print(\"Same sum:\", sum(list1) == sum(list2))\n",
    "    print(\"Common values:\", bool(set(list1) & set(list2)))\n",
    "\n",
    "# Example:\n",
    "# list1: 1 2 3\n",
    "# list2: 3 2 1\n",
    "# Output:\n",
    "# Same length: True\n",
    "# Same sum: True\n",
    "# Common values: True\n"
   ]
  },
  {
   "cell_type": "markdown",
   "id": "ff6b193a",
   "metadata": {},
   "source": [
    "9.Write a function called add_daily_temp that is given a (possibly empty) dictionary meant to hold the average daily temperature for each day of the week, a temperature value, and the day of the week for the recorded temperature. The function should then add the temperature to the dictionary only if it does not already contain a temperature for that day. The function should return the resulting dictionary, whether it is updated or not."
   ]
  },
  {
   "cell_type": "code",
   "execution_count": null,
   "id": "8382b0f5",
   "metadata": {},
   "outputs": [
    {
     "name": "stdout",
     "output_type": "stream",
     "text": [
      "{'Monday': 25}\n",
      "{'Monday': 25}\n"
     ]
    }
   ],
   "source": [
    "def add_daily_temp(temp_dict, temp, day):\n",
    "    if day not in temp_dict:\n",
    "        temp_dict[day] = temp\n",
    "    return temp_dict\n",
    "\n",
    "\n",
    "temps = {}\n",
    "print(add_daily_temp(temps, 25, 'Monday'))  \n",
    "print(add_daily_temp(temps, 30, 'Monday'))  \n"
   ]
  },
  {
   "cell_type": "markdown",
   "id": "e1338570",
   "metadata": {},
   "source": [
    "10.Write a function named get_daily_temps that prompts the user for the average temperature for each day of the week and returns a dictionary containing the information the user entered. "
   ]
  },
  {
   "cell_type": "code",
   "execution_count": 16,
   "id": "4327ed0b",
   "metadata": {},
   "outputs": [],
   "source": [
    "def get_daily_temps():\n",
    "    days = ['Monday', 'Tuesday', 'Wednesday', 'Thursday', 'Friday', 'Saturday', 'Sunday']\n",
    "    temps = {}\n",
    "    for day in days:\n",
    "        temps[day] = float(input(f\"Enter temperature for {day}: \"))\n",
    "    return temps\n",
    "\n",
    "\n"
   ]
  },
  {
   "cell_type": "markdown",
   "id": "b0639142",
   "metadata": {},
   "source": [
    "11.Create three dictionaries: \n",
    "dic1 = {1:10, 2:20}\n",
    "dic2 = {3:30, 4:40}\n",
    "dic3 = {5:50, 6:60}\n",
    "(a) Write code to concatenate these dictionaries to create a new one. Create a variable called nums to store the resulting dictionary. \n",
    "\n",
    "(b) Write code to add a new key/value pair to the dictionary nums: (7, 70)\n",
    "(c) Write code to update the value of the item with key 3 in nums to 80\n",
    "(d) Write code to remove the third item from dictionary nums.\n",
    "(e) Write code to sum all the items in the dictionary nums\n",
    "(f) Write code to multiply all the items in the dictionary nums\n",
    "(g) Write code to retrieve the maximum and minimum values in nums.\n"
   ]
  },
  {
   "cell_type": "code",
   "execution_count": null,
   "id": "df904a43",
   "metadata": {},
   "outputs": [
    {
     "name": "stdout",
     "output_type": "stream",
     "text": [
      "Sum: 250\n",
      "Product: 1680000000\n",
      "Max: 70\n",
      "Min: 10\n"
     ]
    }
   ],
   "source": [
    "dic1 = {1:10, 2:20}\n",
    "dic2 = {3:30, 4:40}\n",
    "dic3 = {5:50, 6:60}\n",
    "\n",
    "\n",
    "nums = {**dic1, **dic2, **dic3}\n",
    "\n",
    "\n",
    "nums[7] = 70\n",
    "\n",
    "\n",
    "nums[3] = 80\n",
    "\n",
    "\n",
    "nums.pop(list(nums.keys())[2])  \n",
    "\n",
    "print(\"Sum:\", sum(nums.values()))\n",
    "\n",
    "\n",
    "product = 1\n",
    "for v in nums.values():\n",
    "    product *= v\n",
    "print(\"Product:\", product)\n",
    "\n",
    "\n",
    "print(\"Max:\", max(nums.values()))\n",
    "print(\"Min:\", min(nums.values()))\n"
   ]
  },
  {
   "cell_type": "markdown",
   "id": "f114b72d",
   "metadata": {},
   "source": [
    "12.Create two sets: \n",
    "set1 = {20, 40, 60}\n",
    "set2 = {10, 20, 30, 40, 50, 60}\n",
    "(a) Write code to perform a union of these sets. Print the length of the resulting set.\n",
    "(b) Write code to perform an intersection of set1 and set2.\n",
    "(c) Write code to compute the symmetric difference between set1 and set2\n",
    "(d) Write code to add the value 40 to set1, did the set change?\n",
    "(e) Write code to remove value 20 from set2.\n",
    "\n"
   ]
  },
  {
   "cell_type": "code",
   "execution_count": 15,
   "id": "0c9fa8c6",
   "metadata": {},
   "outputs": [
    {
     "name": "stdout",
     "output_type": "stream",
     "text": [
      "Union length: 6\n",
      "Intersection: {40, 20, 60}\n",
      "Symmetric difference: {50, 10, 30}\n",
      "Set changed: False\n",
      "Updated set2: {50, 40, 10, 60, 30}\n"
     ]
    }
   ],
   "source": [
    "set1 = {20, 40, 60}\n",
    "set2 = {10, 20, 30, 40, 50, 60}\n",
    "\n",
    "union_set = set1 | set2\n",
    "print(\"Union length:\", len(union_set))  \n",
    "\n",
    "\n",
    "print(\"Intersection:\", set1 & set2)   \n",
    "\n",
    "print(\"Symmetric difference:\", set1 ^ set2)  \n",
    "\n",
    "before = set1.copy()\n",
    "set1.add(40)\n",
    "print(\"Set changed:\", set1 != before)  \n",
    "\n",
    "set2.discard(20)\n",
    "print(\"Updated set2:\", set2)\n"
   ]
  },
  {
   "cell_type": "markdown",
   "id": "f6fa974b",
   "metadata": {},
   "source": [
    "13.Create a function called word_intersection that prompts the user for two English words, and displays which letters the two words have in common. "
   ]
  },
  {
   "cell_type": "code",
   "execution_count": 14,
   "id": "39f7abac",
   "metadata": {},
   "outputs": [],
   "source": [
    "def word_intersection():\n",
    "    word1 = input(\"Enter the first word: \").lower()\n",
    "    word2 = input(\"Enter the second word: \").lower()\n",
    "\n",
    "    common_letters = set(word1) & set(word2)\n",
    "\n",
    "    if common_letters:\n",
    "        print(\"Common letters:\", ', '.join(sorted(common_letters)))\n",
    "    else:\n",
    "        print(\"No common letters found.\")\n"
   ]
  }
 ],
 "metadata": {
  "kernelspec": {
   "display_name": "Python 3",
   "language": "python",
   "name": "python3"
  },
  "language_info": {
   "codemirror_mode": {
    "name": "ipython",
    "version": 3
   },
   "file_extension": ".py",
   "mimetype": "text/x-python",
   "name": "python",
   "nbconvert_exporter": "python",
   "pygments_lexer": "ipython3",
   "version": "3.13.0"
  }
 },
 "nbformat": 4,
 "nbformat_minor": 5
}
