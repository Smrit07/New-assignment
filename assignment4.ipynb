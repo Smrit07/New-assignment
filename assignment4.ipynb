{
 "cells": [
  {
   "cell_type": "code",
   "execution_count": 1,
   "id": "2e92c3bf",
   "metadata": {},
   "outputs": [
    {
     "name": "stdout",
     "output_type": "stream",
     "text": [
      "Program 1 Output: [0. 0. 0. 0. 1. 0. 0. 0. 0. 0.]\n"
     ]
    }
   ],
   "source": [
    "import numpy as np\n",
    "vector1 = np.zeros(10)\n",
    "vector1[4] = 1\n",
    "print(\"Program 1 Output:\", vector1)"
   ]
  },
  {
   "cell_type": "code",
   "execution_count": 2,
   "id": "b582d8cb",
   "metadata": {},
   "outputs": [
    {
     "name": "stdout",
     "output_type": "stream",
     "text": [
      "Program 2 Output:\n",
      " [[0.32249252 0.4919275  0.94481986 0.56097964 0.43845507 0.18835796\n",
      "  0.64269054 0.45916604 0.08565976 0.5052063  0.2942665  0.28245431]\n",
      " [0.33835479 0.32663159 0.1836692  0.57627932 0.31105889 0.06892214\n",
      "  0.93729264 0.73233262 0.87331826 0.23730742 0.7953466  0.28860173]\n",
      " [0.50017249 0.66979995 0.28542885 0.13761912 0.93358289 0.22360744\n",
      "  0.46486938 0.53525253 0.14424089 0.62570504 0.91371535 0.39107902]\n",
      " [0.65958952 0.65654031 0.30235988 0.27552051 0.96195767 0.87125954\n",
      "  0.07166583 0.83483905 0.04870149 0.98816043 0.66968652 0.47088636]\n",
      " [0.4691216  0.27421229 0.17952853 0.45634253 0.90299955 0.13872902\n",
      "  0.32566028 0.06219453 0.77229451 0.07064252 0.95050478 0.50916991]\n",
      " [0.68229541 0.01688069 0.69812684 0.83991647 0.66214609 0.90368101\n",
      "  0.80674551 0.61349728 0.63136596 0.54868854 0.73025346 0.82940474]\n",
      " [0.79915356 0.85074133 0.58228846 0.94191626 0.13973834 0.33357025\n",
      "  0.56205101 0.32573698 0.7746901  0.89596413 0.0084664  0.58944355]\n",
      " [0.2128015  0.52184871 0.61036941 0.3614734  0.54744885 0.76083739\n",
      "  0.03691666 0.7045108  0.58886624 0.13328529 0.80918994 0.59850493]\n",
      " [0.78195109 0.90828311 0.36017796 0.2727049  0.5622885  0.69570926\n",
      "  0.4870283  0.41337108 0.65730691 0.13038816 0.43866291 0.37073188]\n",
      " [0.99027384 0.93118948 0.37111629 0.38912276 0.94136111 0.47344138\n",
      "  0.54423972 0.88140851 0.93222919 0.11450581 0.15935943 0.23478164]\n",
      " [0.87139602 0.86661803 0.0587198  0.80551612 0.71769739 0.97084578\n",
      "  0.40028306 0.51957904 0.78439101 0.70749591 0.38920133 0.39051657]\n",
      " [0.11543785 0.71392211 0.7603542  0.4913571  0.66067495 0.50019735\n",
      "  0.30808445 0.22302643 0.69799751 0.14570846 0.59169316 0.88873489]]\n",
      "Average: 0.5271328370663202\n"
     ]
    }
   ],
   "source": [
    "a = int(input(\"Enter number of rows (a): \"))\n",
    "b = int(input(\"Enter number of columns (b): \"))\n",
    "array2 = np.random.rand(a, b)\n",
    "print(\"Program 2 Output:\\n\", array2)\n",
    "print(\"Average:\", np.mean(array2))\n"
   ]
  },
  {
   "cell_type": "code",
   "execution_count": 3,
   "id": "02db246a",
   "metadata": {},
   "outputs": [
    {
     "name": "stdout",
     "output_type": "stream",
     "text": [
      "Program 3 Output: [0.09090909 0.18181818 0.27272727 0.36363636 0.45454545 0.54545455\n",
      " 0.63636364 0.72727273 0.81818182 0.90909091]\n"
     ]
    }
   ],
   "source": [
    "vector3 = np.linspace(0, 1, 12)[1:-1]\n",
    "print(\"Program 3 Output:\", vector3)\n"
   ]
  },
  {
   "cell_type": "code",
   "execution_count": 4,
   "id": "7b186cd7",
   "metadata": {},
   "outputs": [
    {
     "name": "stdout",
     "output_type": "stream",
     "text": [
      "Program 4 Output:\n",
      " [[1. 0. 0. 0.]\n",
      " [0. 1. 0. 0.]\n",
      " [0. 0. 1. 0.]]\n"
     ]
    }
   ],
   "source": [
    "try:\n",
    "    identity_matrix = np.eye(3, 4)\n",
    "    print(\"Program 4 Output:\\n\", identity_matrix)\n",
    "except Exception as e:\n",
    "    print(\"Program 4 Error:\", e)\n"
   ]
  },
  {
   "cell_type": "code",
   "execution_count": 5,
   "id": "2f4c181b",
   "metadata": {},
   "outputs": [
    {
     "name": "stdout",
     "output_type": "stream",
     "text": [
      "Program 5 Output:\n",
      " [[0 1 2 3 4]\n",
      " [0 1 2 3 4]\n",
      " [0 1 2 3 4]\n",
      " [0 1 2 3 4]\n",
      " [0 1 2 3 4]]\n"
     ]
    }
   ],
   "source": [
    "matrix5 = np.tile(np.arange(5), (5, 1))\n",
    "print(\"Program 5 Output:\\n\", matrix5)\n"
   ]
  },
  {
   "cell_type": "code",
   "execution_count": 6,
   "id": "e5774f26",
   "metadata": {},
   "outputs": [
    {
     "name": "stdout",
     "output_type": "stream",
     "text": [
      "Sorted list: [1]\n",
      "Elements from index 2 to 5: []\n",
      "Elements from index 5 to 8: []\n",
      "Elements from index 2 to 9: []\n"
     ]
    }
   ],
   "source": [
    "user_input = list(map(int, input(\"Enter at least 10 numbers separated by space: \").split()))\n",
    "user_input.sort()\n",
    "print(\"Sorted list:\", user_input)\n",
    "print(\"Elements from index 2 to 5:\", user_input[2:6])\n",
    "print(\"Elements from index 5 to 8:\", user_input[5:9])\n",
    "print(\"Elements from index 2 to 9:\", user_input[2:10])"
   ]
  },
  {
   "cell_type": "code",
   "execution_count": 7,
   "id": "f59561bb",
   "metadata": {},
   "outputs": [
    {
     "name": "stdout",
     "output_type": "stream",
     "text": [
      "Original Random Array: [68 23 31 86 22 14 76 97 27 98]\n",
      "Sorted Array: [14 22 23 27 31 68 76 86 97 98]\n",
      "Reshaped Array:\n",
      " [[14 22 23 27 31]\n",
      " [68 76 86 97 98]]\n"
     ]
    }
   ],
   "source": [
    "rand_array = np.random.randint(1, 100, size=10)\n",
    "print(\"Original Random Array:\", rand_array)\n",
    "sorted_array = np.sort(rand_array)\n",
    "print(\"Sorted Array:\", sorted_array)\n",
    "reshaped_array = sorted_array.reshape(2, 5)  # Assumes 10 elements\n",
    "print(\"Reshaped Array:\\n\", reshaped_array)"
   ]
  },
  {
   "cell_type": "code",
   "execution_count": 8,
   "id": "980cd0ef",
   "metadata": {},
   "outputs": [
    {
     "name": "stdout",
     "output_type": "stream",
     "text": [
      "Addition:\n",
      " 0    11\n",
      "1    22\n",
      "2    33\n",
      "dtype: int64\n",
      "Subtraction:\n",
      " 0     9\n",
      "1    18\n",
      "2    27\n",
      "dtype: int64\n",
      "Multiplication:\n",
      " 0    10\n",
      "1    40\n",
      "2    90\n",
      "dtype: int64\n",
      "Division:\n",
      " 0    10.0\n",
      "1    10.0\n",
      "2    10.0\n",
      "dtype: float64\n"
     ]
    }
   ],
   "source": [
    "import pandas as pd\n",
    "s1 = pd.Series([10, 20, 30])\n",
    "s2 = pd.Series([1, 2, 3])\n",
    "print(\"Addition:\\n\", s1 + s2)\n",
    "print(\"Subtraction:\\n\", s1 - s2)\n",
    "print(\"Multiplication:\\n\", s1 * s2)\n",
    "print(\"Division:\\n\", s1 / s2)"
   ]
  },
  {
   "cell_type": "code",
   "execution_count": 10,
   "id": "dfd0ff3e",
   "metadata": {},
   "outputs": [],
   "source": [
    "data = {\n",
    "    'EmployeeID': [101, 102, 103, 104, 105],\n",
    "    'Name': ['John Smith', 'Alice Brown', 'Bob White', 'Emma Green', 'Charlie Red'],\n",
    "    'Department': ['IT', 'HR', 'IT', 'Finance', 'HR'],\n",
    "    'Age': [30, 28, 35, 40, 25],\n",
    "    'Salary': [70000, 60000, 80000, 90000, 55000],\n",
    "    'JoinDate': pd.to_datetime(['2018-07-15', '2020-03-10', '2016-11-01', '2012-05-25', '2021-06-01']),\n",
    "    'ExperienceYears': [5, 3, 7, 11, 2]\n",
    "}\n",
    "df = pd.DataFrame(data)\n"
   ]
  },
  {
   "cell_type": "code",
   "execution_count": 11,
   "id": "75eaad8e",
   "metadata": {},
   "outputs": [
    {
     "name": "stdout",
     "output_type": "stream",
     "text": [
      "\n",
      "Names and Salaries:\n",
      "           Name  Salary\n",
      "0   John Smith   70000\n",
      "1  Alice Brown   60000\n",
      "2    Bob White   80000\n",
      "3   Emma Green   90000\n",
      "4  Charlie Red   55000\n"
     ]
    }
   ],
   "source": [
    "# 1. Select Name and Salary\n",
    "print(\"\\nNames and Salaries:\\n\", df[['Name', 'Salary']])"
   ]
  },
  {
   "cell_type": "code",
   "execution_count": 12,
   "id": "82a700cb",
   "metadata": {},
   "outputs": [
    {
     "name": "stdout",
     "output_type": "stream",
     "text": [
      "\n",
      "IT Department:\n",
      "    EmployeeID        Name Department  Age  Salary   JoinDate  ExperienceYears\n",
      "0         101  John Smith         IT   30   70000 2018-07-15                5\n",
      "2         103   Bob White         IT   35   80000 2016-11-01                7\n"
     ]
    }
   ],
   "source": [
    "# 2. Employees in IT\n",
    "print(\"\\nIT Department:\\n\", df[df['Department'] == 'IT'])"
   ]
  },
  {
   "cell_type": "code",
   "execution_count": 13,
   "id": "285d1f2c",
   "metadata": {},
   "outputs": [
    {
     "name": "stdout",
     "output_type": "stream",
     "text": [
      "\n",
      "Employees older than 30:\n",
      "    EmployeeID        Name Department  Age  Salary   JoinDate  ExperienceYears\n",
      "2         103   Bob White         IT   35   80000 2016-11-01                7\n",
      "3         104  Emma Green    Finance   40   90000 2012-05-25               11\n",
      "\n",
      "Average Salary per Department:\n",
      " Department\n",
      "Finance    90000.0\n",
      "HR         57500.0\n",
      "IT         75000.0\n",
      "Name: Salary, dtype: float64\n"
     ]
    }
   ],
   "source": [
    "# 3. Employees older than 30, avg salary per dept\n",
    "print(\"\\nEmployees older than 30:\\n\", df[df['Age'] > 30])\n",
    "print(\"\\nAverage Salary per Department:\\n\", df.groupby('Department')['Salary'].mean())\n"
   ]
  },
  {
   "cell_type": "code",
   "execution_count": 14,
   "id": "ec472bbf",
   "metadata": {},
   "outputs": [
    {
     "name": "stdout",
     "output_type": "stream",
     "text": [
      "\n",
      "Count per Department:\n",
      " Department\n",
      "IT         2\n",
      "HR         2\n",
      "Finance    1\n",
      "Name: count, dtype: int64\n"
     ]
    }
   ],
   "source": [
    "# 4. Count employees per department\n",
    "print(\"\\nCount per Department:\\n\", df['Department'].value_counts())"
   ]
  },
  {
   "cell_type": "code",
   "execution_count": 15,
   "id": "ce23dffe",
   "metadata": {},
   "outputs": [
    {
     "name": "stdout",
     "output_type": "stream",
     "text": [
      "\n",
      "With Bonus:\n",
      "           Name  Salary   Bonus\n",
      "0   John Smith   70000  7000.0\n",
      "1  Alice Brown   60000  6000.0\n",
      "2    Bob White   80000  8000.0\n",
      "3   Emma Green   90000  9000.0\n",
      "4  Charlie Red   55000  5500.0\n"
     ]
    }
   ],
   "source": [
    "# 5. Add Bonus column\n",
    "df['Bonus'] = df['Salary'] * 0.10\n",
    "print(\"\\nWith Bonus:\\n\", df[['Name', 'Salary', 'Bonus']])"
   ]
  },
  {
   "cell_type": "code",
   "execution_count": 16,
   "id": "bae31929",
   "metadata": {},
   "outputs": [
    {
     "name": "stdout",
     "output_type": "stream",
     "text": [
      "\n",
      "Updated Departments:\n",
      " 0                 IT\n",
      "1    Human Resources\n",
      "2                 IT\n",
      "3            Finance\n",
      "4    Human Resources\n",
      "Name: Department, dtype: object\n"
     ]
    }
   ],
   "source": [
    "# 6. Replace HR with Human Resources\n",
    "df['Department'] = df['Department'].replace('HR', 'Human Resources')\n",
    "print(\"\\nUpdated Departments:\\n\", df['Department'])"
   ]
  },
  {
   "cell_type": "code",
   "execution_count": null,
   "id": "29f442df",
   "metadata": {},
   "outputs": [
    {
     "name": "stdout",
     "output_type": "stream",
     "text": [
      "\n",
      "Longest Tenure Employee:\n",
      "    EmployeeID        Name Department  Age  Salary   JoinDate  ExperienceYears  \\\n",
      "3         104  Emma Green    Finance   40   90000 2012-05-25               11   \n",
      "\n",
      "    Bonus  \n",
      "3  9000.0  \n"
     ]
    }
   ],
   "source": [
    "# 7. Longest tenure\n",
    "min_date = df['JoinDate'].min()\n",
    "print(\"\\nLongest Tenure Employee:\\n\", df[df['JoinDate'] == min_date])\n",
    "\n"
   ]
  },
  {
   "cell_type": "code",
   "execution_count": 18,
   "id": "b27ffe77",
   "metadata": {},
   "outputs": [
    {
     "name": "stdout",
     "output_type": "stream",
     "text": [
      "\n",
      "Salary Category:\n",
      "           Name SalaryCategory\n",
      "0   John Smith            Low\n",
      "1  Alice Brown            Low\n",
      "2    Bob White           High\n",
      "3   Emma Green           High\n",
      "4  Charlie Red            Low\n"
     ]
    }
   ],
   "source": [
    "# 8. SalaryCategory column\n",
    "df['SalaryCategory'] = df['Salary'].apply(lambda x: 'High' if x > 75000 else 'Low')\n",
    "print(\"\\nSalary Category:\\n\", df[['Name', 'SalaryCategory']])"
   ]
  },
  {
   "cell_type": "code",
   "execution_count": 20,
   "id": "d0806faf",
   "metadata": {},
   "outputs": [],
   "source": [
    "# 9. Check duplicates\n",
    "df = df.drop_duplicates(subset='EmployeeID')"
   ]
  },
  {
   "cell_type": "code",
   "execution_count": 21,
   "id": "cd3e1f7e",
   "metadata": {},
   "outputs": [
    {
     "name": "stdout",
     "output_type": "stream",
     "text": [
      "\n",
      "Median Age: 30.0\n"
     ]
    }
   ],
   "source": [
    "# 10. Median Age\n",
    "print(\"\\nMedian Age:\", df['Age'].median())\n"
   ]
  }
 ],
 "metadata": {
  "kernelspec": {
   "display_name": "Python 3",
   "language": "python",
   "name": "python3"
  },
  "language_info": {
   "codemirror_mode": {
    "name": "ipython",
    "version": 3
   },
   "file_extension": ".py",
   "mimetype": "text/x-python",
   "name": "python",
   "nbconvert_exporter": "python",
   "pygments_lexer": "ipython3",
   "version": "3.13.0"
  }
 },
 "nbformat": 4,
 "nbformat_minor": 5
}
