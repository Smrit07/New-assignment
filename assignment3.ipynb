{
 "cells": [
  {
   "cell_type": "markdown",
   "id": "6c830dd0",
   "metadata": {},
   "source": [
    "1. Write a program to count the number of lines, words, and characters in a text file."
   ]
  },
  {
   "cell_type": "code",
   "execution_count": 1,
   "id": "cb5b75dc",
   "metadata": {},
   "outputs": [],
   "source": [
    "def count_file_stats(filename):\n",
    "    with open(filename, 'r') as file:\n",
    "        lines = file.readlines()\n",
    "        num_lines = len(lines)\n",
    "        num_words = sum(len(line.split()) for line in lines)\n",
    "        num_chars = sum(len(line) for line in lines)\n",
    "    print(\"Lines:\", num_lines)\n",
    "    print(\"Words:\", num_words)\n",
    "    print(\"Characters:\", num_chars)\n"
   ]
  },
  {
   "cell_type": "markdown",
   "id": "d53300da",
   "metadata": {},
   "source": [
    "2. Write a program to copy the contents of one file to another."
   ]
  },
  {
   "cell_type": "code",
   "execution_count": 2,
   "id": "58fa09a6",
   "metadata": {},
   "outputs": [],
   "source": [
    "def copy_file(source, destination):\n",
    "    with open(source, 'r') as src, open(destination, 'w') as dest:\n",
    "        dest.write(src.read())\n",
    "    print(f\"Copied content from {source} to {destination}\")\n"
   ]
  },
  {
   "cell_type": "markdown",
   "id": "a2d5e60c",
   "metadata": {},
   "source": [
    "3. Write a program to find and replace a specific word in a file with another word."
   ]
  },
  {
   "cell_type": "code",
   "execution_count": 3,
   "id": "164d89b2",
   "metadata": {},
   "outputs": [],
   "source": [
    "def find_replace(filename, old_word, new_word):\n",
    "    with open(filename, 'r') as file:\n",
    "        content = file.read()\n",
    "    content = content.replace(old_word, new_word)\n",
    "    with open(filename, 'w') as file:\n",
    "        file.write(content)\n",
    "    print(\"Replacement complete.\")\n"
   ]
  },
  {
   "cell_type": "markdown",
   "id": "dda81796",
   "metadata": {},
   "source": [
    "4. Implement a program to read a CSV file and display its contents in a tabular format."
   ]
  },
  {
   "cell_type": "code",
   "execution_count": 4,
   "id": "5cf6265b",
   "metadata": {},
   "outputs": [],
   "source": [
    "import csv\n",
    "\n",
    "def display_csv(filename):\n",
    "    with open(filename, 'r') as file:\n",
    "        reader = csv.reader(file)\n",
    "        for row in reader:\n",
    "            print('\\t'.join(row))\n"
   ]
  },
  {
   "cell_type": "markdown",
   "id": "621001db",
   "metadata": {},
   "source": [
    "5. Develop a program that counts the occurrence of each word in a file."
   ]
  },
  {
   "cell_type": "code",
   "execution_count": 5,
   "id": "613a7686",
   "metadata": {},
   "outputs": [],
   "source": [
    "from collections import Counter\n",
    "\n",
    "def word_count(filename):\n",
    "    with open(filename, 'r') as file:\n",
    "        words = file.read().lower().split()\n",
    "    counts = Counter(words)\n",
    "    for word, count in counts.items():\n",
    "        print(f\"{word}: {count}\")\n"
   ]
  },
  {
   "cell_type": "markdown",
   "id": "88cc8c6a",
   "metadata": {},
   "source": [
    "6. Create a class Student with the attributes such as id, name, address, admission year, level, section. Instantiate the object of class to take input for all the attributes and display the output. "
   ]
  },
  {
   "cell_type": "code",
   "execution_count": 6,
   "id": "d4352f6f",
   "metadata": {},
   "outputs": [],
   "source": [
    "class Student:\n",
    "    def __init__(self):\n",
    "        self.id = input(\"Enter ID: \")\n",
    "        self.name = input(\"Enter Name: \")\n",
    "        self.address = input(\"Enter Address: \")\n",
    "        self.admission_year = input(\"Enter Admission Year: \")\n",
    "        self.level = input(\"Enter Level: \")\n",
    "        self.section = input(\"Enter Section: \")\n",
    "\n",
    "    def display(self):\n",
    "        print(\"\\n--- Student Details ---\")\n",
    "        print(f\"ID: {self.id}\")\n",
    "        print(f\"Name: {self.name}\")\n",
    "        print(f\"Address: {self.address}\")\n",
    "        print(f\"Admission Year: {self.admission_year}\")\n",
    "        print(f\"Level: {self.level}\")\n",
    "        print(f\"Section: {self.section}\")"
   ]
  },
  {
   "cell_type": "markdown",
   "id": "87ec9f0b",
   "metadata": {},
   "source": [
    "\n",
    "7.Write a program to implement a class called employee with attributes such as empid, name, address, contact_number, spouse name, number_of_child, salary. Instantiate this class to input the values for multiple employees and write it in a file “employees.csv”. Allow the user of your program to see the list of employees and their details as well. Try to use the concept of try/except too in the program. \n"
   ]
  },
  {
   "cell_type": "code",
   "execution_count": 7,
   "id": "9847a383",
   "metadata": {},
   "outputs": [],
   "source": [
    "class Employee:\n",
    "    def __init__(self):\n",
    "        self.empid = input(\"Enter Employee ID: \")\n",
    "        self.name = input(\"Enter Name: \")\n",
    "        self.address = input(\"Enter Address: \")\n",
    "        self.contact = input(\"Enter Contact Number: \")\n",
    "        self.spouse = input(\"Enter Spouse Name: \")\n",
    "        self.children = input(\"Enter Number of Children: \")\n",
    "        self.salary = input(\"Enter Salary: \")\n",
    "\n",
    "    def to_list(self):\n",
    "        return [self.empid, self.name, self.address, self.contact, self.spouse, self.children, self.salary]\n",
    "\n",
    "def save_employees():\n",
    "    try:\n",
    "        n = int(input(\"How many employees? \"))\n",
    "        with open(\"employees.csv\", \"a\", newline='') as file:\n",
    "            writer = csv.writer(file)\n",
    "            for _ in range(n):\n",
    "                emp = Employee()\n",
    "                writer.writerow(emp.to_list())\n",
    "        print(\"Employee data saved.\")\n",
    "    except Exception as e:\n",
    "        print(\"Error:\", e)\n",
    "\n",
    "def read_employees():\n",
    "    try:\n",
    "        with open(\"employees.csv\", \"r\") as file:\n",
    "            reader = csv.reader(file)\n",
    "            for row in reader:\n",
    "                print('\\t'.join(row))\n",
    "    except FileNotFoundError:\n",
    "        print(\"File not found!\")"
   ]
  },
  {
   "cell_type": "markdown",
   "id": "351a6af3",
   "metadata": {},
   "source": [
    "\n",
    "8.Write a program to implement a basic library book management with the functionalities such as issue the book, return the book and search the book. Use the concept of OOP to create the necessary classes on your own and implement the concept of other OOP features. For the storage of book details, use the file handling along with the exception handling. \n"
   ]
  },
  {
   "cell_type": "code",
   "execution_count": 8,
   "id": "0322d0e9",
   "metadata": {},
   "outputs": [],
   "source": [
    "class Book:\n",
    "    def __init__(self, title, author):\n",
    "        self.title = title\n",
    "        self.author = author\n",
    "        self.issued = False\n",
    "\n",
    "class Library:\n",
    "    def __init__(self, filename=\"library.txt\"):\n",
    "        self.filename = filename\n",
    "        self.books = []\n",
    "        self.load_books()\n",
    "\n",
    "    def load_books(self):\n",
    "        try:\n",
    "            if os.path.exists(self.filename):\n",
    "                with open(self.filename, 'r') as f:\n",
    "                    for line in f:\n",
    "                        title, author, issued = line.strip().split('|')\n",
    "                        book = Book(title, author)\n",
    "                        book.issued = issued == 'True'\n",
    "                        self.books.append(book)\n",
    "        except Exception as e:\n",
    "            print(\"Error loading books:\", e)\n",
    "\n",
    "    def save_books(self):\n",
    "        with open(self.filename, 'w') as f:\n",
    "            for book in self.books:\n",
    "                f.write(f\"{book.title}|{book.author}|{book.issued}\\n\")\n",
    "\n",
    "    def issue_book(self, title):\n",
    "        for book in self.books:\n",
    "            if book.title == title and not book.issued:\n",
    "                book.issued = True\n",
    "                self.save_books()\n",
    "                print(f\"'{title}' has been issued.\")\n",
    "                return\n",
    "        print(f\"'{title}' not available or already issued.\")\n",
    "\n",
    "    def return_book(self, title):\n",
    "        for book in self.books:\n",
    "            if book.title == title and book.issued:\n",
    "                book.issued = False\n",
    "                self.save_books()\n",
    "                print(f\"'{title}' has been returned.\")\n",
    "                return\n",
    "        print(f\"No issued book titled '{title}' found.\")\n",
    "\n",
    "    def search_book(self, keyword):\n",
    "        found = False\n",
    "        for book in self.books:\n",
    "            if keyword.lower() in book.title.lower():\n",
    "                status = \"Issued\" if book.issued else \"Available\"\n",
    "                print(f\"{book.title} by {book.author} - {status}\")\n",
    "                found = True\n",
    "        if not found:\n",
    "            print(\"No book found.\")"
   ]
  }
 ],
 "metadata": {
  "kernelspec": {
   "display_name": "Python 3",
   "language": "python",
   "name": "python3"
  },
  "language_info": {
   "codemirror_mode": {
    "name": "ipython",
    "version": 3
   },
   "file_extension": ".py",
   "mimetype": "text/x-python",
   "name": "python",
   "nbconvert_exporter": "python",
   "pygments_lexer": "ipython3",
   "version": "3.13.0"
  }
 },
 "nbformat": 4,
 "nbformat_minor": 5
}
